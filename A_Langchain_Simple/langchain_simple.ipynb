{
  "nbformat": 4,
  "nbformat_minor": 0,
  "metadata": {
    "colab": {
      "provenance": []
    },
    "kernelspec": {
      "name": "python3",
      "display_name": "Python 3"
    },
    "language_info": {
      "name": "python"
    }
  },
  "cells": [
    {
      "cell_type": "code",
      "source": [
        "# Install packages.\n",
        "!pip install langchain langchain-google-genai"
      ],
      "metadata": {
        "id": "QHLxOeZN8bSn",
        "collapsed": true
      },
      "execution_count": null,
      "outputs": []
    },
    {
      "cell_type": "code",
      "execution_count": null,
      "metadata": {
        "id": "7qPf51q88JnR"
      },
      "outputs": [],
      "source": [
        "from langchain_google_genai import ChatGoogleGenerativeAI\n",
        "from langchain.agents import initialize_agent, AgentType\n",
        "\n",
        "# Initialize Gemini LLM\n",
        "llm = ChatGoogleGenerativeAI(model=\"gemini-1.5-flash\", google_api_key=\"YOUR_API_KEY_HERE\")\n",
        "\n",
        "# Define tools (e.g., a simple Python function as a tool)\n",
        "from langchain.tools import tool\n",
        "@tool\n",
        "def calculator(query: str) -> str:\n",
        "    # Evaluates a math expression.\n",
        "    try:\n",
        "        return str(eval(query))\n",
        "    except:\n",
        "        return \"Invalid expression\"\n",
        "\n",
        "tools = [calculator]\n",
        "\n",
        "# Initialize agent\n",
        "agent = initialize_agent(\n",
        "    tools=tools,\n",
        "    llm=llm,\n",
        "    agent_type=AgentType.ZERO_SHOT_REACT_DESCRIPTION,\n",
        "    verbose=True\n",
        ")\n",
        "\n",
        "# Test the agent\n",
        "response = agent.run(\"What is 5 + 3 * 2?\")\n",
        "print(response)"
      ]
    }
  ]
}