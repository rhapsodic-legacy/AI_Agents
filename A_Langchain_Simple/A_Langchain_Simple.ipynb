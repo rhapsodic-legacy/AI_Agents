{
  "nbformat": 4,
  "nbformat_minor": 0,
  "metadata": {
    "colab": {
      "provenance": []
    },
    "kernelspec": {
      "name": "python3",
      "display_name": "Python 3"
    },
    "language_info": {
      "name": "python"
    }
  },
  "cells": [
    {
      "cell_type": "code",
      "execution_count": null,
      "metadata": {
        "id": "PzAEcOWJyHth"
      },
      "outputs": [],
      "source": [
        "# Install packages (run this in a separate cell if using a notebook)\n",
        "!pip install langchain langchain-google-genai\n",
        "\n",
        "from langchain_google_genai import ChatGoogleGenerativeAI\n",
        "from langchain.agents import initialize_agent, AgentType\n",
        "\n",
        "# Initialize Gemini LLM\n",
        "llm = ChatGoogleGenerativeAI(model=\"gemini-1.5-flash\", google_api_key=\"YOUR_KEY_HERE\") # Enter your Google API key here.\n",
        "\n",
        "# Define tools\n",
        "from langchain.tools import tool\n",
        "\n",
        "@tool\n",
        "def calculator(query: str) -> str:\n",
        "    \"\"\"Evaluates a mathematical expression.\"\"\"\n",
        "    try:\n",
        "        return str(eval(query))\n",
        "    except:\n",
        "        return \"Invalid expression\"\n",
        "\n",
        "tools = [calculator]\n",
        "\n",
        "# Initialize agent\n",
        "agent = initialize_agent(\n",
        "    tools=tools,\n",
        "    llm=llm,\n",
        "    agent_type=AgentType.ZERO_SHOT_REACT_DESCRIPTION,\n",
        "    verbose=True\n",
        ")\n",
        "\n",
        "# Test the agent\n",
        "response = agent.run(\"What is 5 + 4 * 2?\")\n",
        "print(response)"
      ]
    }
  ]
}